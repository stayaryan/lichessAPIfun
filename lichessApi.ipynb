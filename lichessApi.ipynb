{
 "cells": [
  {
   "cell_type": "markdown",
   "id": "ca1187c0",
   "metadata": {},
   "source": [
    "## Installing the package"
   ]
  },
  {
   "cell_type": "markdown",
   "id": "0d0a208e",
   "metadata": {},
   "source": []
  },
  {
   "cell_type": "code",
   "execution_count": 5,
   "id": "1332b1a9",
   "metadata": {},
   "outputs": [],
   "source": [
    "#!pip3 install berserk"
   ]
  },
  {
   "cell_type": "markdown",
   "id": "bb5e541c",
   "metadata": {},
   "source": [
    "# Loading the package"
   ]
  },
  {
   "cell_type": "code",
   "execution_count": 2,
   "id": "026dacf1",
   "metadata": {},
   "outputs": [],
   "source": [
    "import berserk\n",
    "token = 'lip_EIomZ1xD2lBTWhx1kMAE'"
   ]
  },
  {
   "cell_type": "markdown",
   "id": "2a5454bf",
   "metadata": {},
   "source": [
    "### Authenticate with personal token and establish a session"
   ]
  },
  {
   "cell_type": "code",
   "execution_count": 7,
   "id": "e1141810",
   "metadata": {},
   "outputs": [],
   "source": [
    "session = berserk.TokenSession(token)\n",
    "client = berserk.Client(session=session)"
   ]
  },
  {
   "cell_type": "code",
   "execution_count": 8,
   "id": "db99c175",
   "metadata": {},
   "outputs": [
    {
     "data": {
      "text/plain": [
       "{'id': 'stayaryan',\n",
       " 'username': 'stayaryan',\n",
       " 'perfs': {'blitz': {'games': 0,\n",
       "   'rating': 1500,\n",
       "   'rd': 500,\n",
       "   'prog': 0,\n",
       "   'prov': True},\n",
       "  'bullet': {'games': 0, 'rating': 1500, 'rd': 500, 'prog': 0, 'prov': True},\n",
       "  'correspondence': {'games': 0,\n",
       "   'rating': 1500,\n",
       "   'rd': 500,\n",
       "   'prog': 0,\n",
       "   'prov': True},\n",
       "  'classical': {'games': 0,\n",
       "   'rating': 1500,\n",
       "   'rd': 500,\n",
       "   'prog': 0,\n",
       "   'prov': True},\n",
       "  'rapid': {'games': 0, 'rating': 1500, 'rd': 500, 'prog': 0, 'prov': True}},\n",
       " 'createdAt': datetime.datetime(2024, 3, 28, 9, 22, 43, 676000, tzinfo=datetime.timezone.utc),\n",
       " 'seenAt': datetime.datetime(2024, 3, 29, 1, 5, 37, 969000, tzinfo=datetime.timezone.utc),\n",
       " 'playTime': {'total': 0, 'tv': 0},\n",
       " 'url': 'https://lichess.org/@/stayaryan',\n",
       " 'count': {'all': 0,\n",
       "  'rated': 0,\n",
       "  'ai': 0,\n",
       "  'draw': 0,\n",
       "  'drawH': 0,\n",
       "  'loss': 0,\n",
       "  'lossH': 0,\n",
       "  'win': 0,\n",
       "  'winH': 0,\n",
       "  'bookmark': 0,\n",
       "  'playing': 0,\n",
       "  'import': 0,\n",
       "  'me': 0},\n",
       " 'followable': True,\n",
       " 'following': False,\n",
       " 'blocking': False,\n",
       " 'followsYou': False}"
      ]
     },
     "execution_count": 8,
     "metadata": {},
     "output_type": "execute_result"
    }
   ],
   "source": [
    "client.account.get()"
   ]
  },
  {
   "cell_type": "code",
   "execution_count": 10,
   "id": "ba72c73a",
   "metadata": {},
   "outputs": [
    {
     "data": {
      "text/plain": [
       "[{'id': 'nihalsarin2004',\n",
       "  'username': 'nihalsarin2004',\n",
       "  'perfs': {'bullet': {'rating': 3268, 'progress': -9}},\n",
       "  'title': 'GM',\n",
       "  'patron': True},\n",
       " {'id': 'wafwhij02',\n",
       "  'username': 'Wafwhij02',\n",
       "  'perfs': {'bullet': {'rating': 3204, 'progress': -20}},\n",
       "  'title': 'IM'},\n",
       " {'id': 'rebeccaharris',\n",
       "  'username': 'RebeccaHarris',\n",
       "  'perfs': {'bullet': {'rating': 3203, 'progress': 11}},\n",
       "  'title': 'GM',\n",
       "  'patron': True},\n",
       " {'id': 'arka50',\n",
       "  'username': 'Arka50',\n",
       "  'perfs': {'bullet': {'rating': 3201, 'progress': -8}},\n",
       "  'title': 'GM'},\n",
       " {'id': 'zhigalko_sergei',\n",
       "  'username': 'Zhigalko_Sergei',\n",
       "  'perfs': {'bullet': {'rating': 3177, 'progress': 19}},\n",
       "  'title': 'GM',\n",
       "  'patron': True},\n",
       " {'id': 'night-king96',\n",
       "  'username': 'Night-King96',\n",
       "  'perfs': {'bullet': {'rating': 3172, 'progress': -8}},\n",
       "  'title': 'GM',\n",
       "  'patron': True},\n",
       " {'id': 'redwarrior25',\n",
       "  'username': 'RedWarrior25',\n",
       "  'perfs': {'bullet': {'rating': 3162, 'progress': 32}}},\n",
       " {'id': 'aaryan_varshney',\n",
       "  'username': 'aaryan_varshney',\n",
       "  'perfs': {'bullet': {'rating': 3150, 'progress': 0}},\n",
       "  'title': 'FM'},\n",
       " {'id': 'kontrajako',\n",
       "  'username': 'KontraJaKO',\n",
       "  'perfs': {'bullet': {'rating': 3150, 'progress': 2}},\n",
       "  'title': 'GM',\n",
       "  'patron': True},\n",
       " {'id': 'chessmaster2006',\n",
       "  'username': 'chessmaster2006',\n",
       "  'perfs': {'bullet': {'rating': 3140, 'progress': -7}},\n",
       "  'title': 'GM'},\n",
       " {'id': 'ediz_gurel',\n",
       "  'username': 'Ediz_Gurel',\n",
       "  'perfs': {'bullet': {'rating': 3136, 'progress': -11}},\n",
       "  'title': 'IM',\n",
       "  'patron': True}]"
      ]
     },
     "execution_count": 10,
     "metadata": {},
     "output_type": "execute_result"
    }
   ],
   "source": [
    "client.users.get_leaderboard('bullet', count=11)"
   ]
  },
  {
   "cell_type": "code",
   "execution_count": 24,
   "id": "09d4172d",
   "metadata": {},
   "outputs": [
    {
     "data": {
      "text/plain": [
       "15"
      ]
     },
     "execution_count": 24,
     "metadata": {},
     "output_type": "execute_result"
    }
   ],
   "source": [
    "len(client.users.get_rating_history(username = 'littlecoder'))"
   ]
  },
  {
   "cell_type": "code",
   "execution_count": null,
   "id": "041a040b",
   "metadata": {},
   "outputs": [],
   "source": []
  }
 ],
 "metadata": {
  "kernelspec": {
   "display_name": "Python 3 (ipykernel)",
   "language": "python",
   "name": "python3"
  },
  "language_info": {
   "codemirror_mode": {
    "name": "ipython",
    "version": 3
   },
   "file_extension": ".py",
   "mimetype": "text/x-python",
   "name": "python",
   "nbconvert_exporter": "python",
   "pygments_lexer": "ipython3",
   "version": "3.11.5"
  }
 },
 "nbformat": 4,
 "nbformat_minor": 5
}
